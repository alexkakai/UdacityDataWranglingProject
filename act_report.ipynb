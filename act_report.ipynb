{
 "cells": [
  {
   "cell_type": "markdown",
   "metadata": {},
   "source": [
    "## Report: act_report"
   ]
  },
  {
   "cell_type": "markdown",
   "metadata": {
    "tags": []
   },
   "source": [
    "# Project: Wrangling of We Rate Dogs Twitter Data\n",
    "\n",
    "## Table of Contents\n",
    "<ul>\n",
    "<li><a href=\"#intro\">Introduction to Wrangling</a></li>\n",
    "<li><a href=\"#Gathering\">Data Gathering</a></li>\n",
    "<li><a href=\"#Accessement\">Data Accessement</a></li>\n",
    "<li><a href=\"#Cleaning\">Data Cleaning</a></li>\n",
    "<li><a href=\"#Analyzing & Visualizing\">Analyzing & Visualizing Data</a></li>\n",
    "<li><a href=\"#conclusions\">Conclusion</a></li>\n",
    "</ul>"
   ]
  },
  {
   "cell_type": "markdown",
   "metadata": {},
   "source": [
    "<a id='intro'></a>\n",
    "## Introduction to Wrangling\n"
   ]
  },
  {
   "cell_type": "markdown",
   "metadata": {},
   "source": [
    "WeRateDogs is a twitter account that posts dogs photos with a rating of the dog. The data used in this project is a download of the tweets posted by WeRateDogs account. The data contains information about the dog e.g. a photo of the dog, name, breed or 'age group' and rating of the dog. Secondary data also obtained from the data are retweet counts, favorite count. The goal of this report is to gather all the data partaining the WeRateDogs account (there are three different datasets), assesses the data, noting all the issues persent, cleaning the noted issues and perform vaious analysis.\n",
    "\n",
    "The following are some of the research questions that are to be answered:\n",
    "* What device is the most used to for tweeting the content on WeRateDogs account?\n",
    "* What is the relationship between favorite counts and retweet counts?\n",
    "* What is the relationship between the numerator rating and the favorite counts?"
   ]
  },
  {
   "cell_type": "markdown",
   "metadata": {
    "tags": []
   },
   "source": [
    "<a id='Gathering'></a>\n",
    "## Data Gathering"
   ]
  },
  {
   "cell_type": "markdown",
   "metadata": {},
   "source": [
    "Three datasets were provided for this project:\n",
    "* Json file containing raw tweets data extracted using tweepy\n",
    "* tweet image predictions file containing predictions of all the dog images through a machine learning model\n",
    "* WeRateDogs Twitter archive file of partialy extracted tweets data\n",
    "\n",
    "First the following packages were import to aid with the data wrangling and visualisation\n",
    "><ol>\n",
    "  <p><img src=\"packages.png\" style=\"height: 300px;\"/></p>\n",
    "</ol>\n",
    "1. JSON File\n",
    "><ol>\n",
    "  <p><img src=\"json.png\" style=\"height: 400px;\"/></p>\n",
    "</ol>\n",
    "2. Tweet Image Predictions\n",
    "><ol>\n",
    "  <p><img src=\"predictions.png\" style=\"height: 300px;\"/></p>\n",
    "</ol>\n",
    "3. WeRateDogs Twitter Archive File\n",
    "><ol>\n",
    "  <p><img src=\"archive.png\" style=\"height: 300px;\"/></p>\n",
    "</ol>"
   ]
  },
  {
   "cell_type": "markdown",
   "metadata": {},
   "source": [
    "<a id='Accessement'></a>\n",
    "## Data Accessement"
   ]
  },
  {
   "cell_type": "markdown",
   "metadata": {},
   "source": [
    "After accessing the data both visually and programatically a number of data quality and tidiness issues were noticed and recorded as follows:\n",
    "### Quality issues\n",
    "##### `twitter_archive` `json` files\n",
    "* Some numerator values were wrongly extracted as per the text field e.g tweet with id #680494726643068929 was extracted as 26/10 yet it should be 11.26/10\n",
    "\n",
    "* Timestamp is not in the correct format, to be converted to a timedate format\n",
    "\n",
    "* Source column is not clean, contains some html left over special charaters\n",
    "\n",
    "* Tweet id extracted from json file has data type object and not integer\n",
    "\n",
    "* in_reply_to_user_id/in_reply_to_status_id columns should have int as their data types and not float\n",
    "\n",
    "* Some denominator and numerator values need to be transformed to be in the same format as other tweets e.g #677716515794329600 144/120 which should be 12/10\n",
    "\n",
    "* rating numerator column has outliers, it has values values as big as 1776\n",
    "\n",
    "* rating denominator column has outliers, it should a 10 across all tweets, has values both less than and more than 10\n",
    "\n",
    "### Tidiness issues\n",
    "##### `twitter_archive` file\n",
    "* Source column can be split into two different columns with device and url column being created\n",
    "\n",
    "* Retweeted tweets are part of the main dataframe, these needs dropping"
   ]
  },
  {
   "cell_type": "markdown",
   "metadata": {},
   "source": [
    "<a id='Cleaning'></a>\n",
    "## Data Cleaning"
   ]
  },
  {
   "cell_type": "markdown",
   "metadata": {},
   "source": [
    "All the captured issues were cleaned by first redefining the issues, coding and lastly testing to check if the issues had been fixed. Below are three examples of the issues noted above having been fixed:\n",
    "* Issue One: Format of the timestap column was not clean enough to be used for analysis, it had a string format instead of datetime\n",
    "><ol>\n",
    "  <p><img src=\"./issue1.png\" style=\"height: 400px;\"/></p>\n",
    "</ol>\n",
    "* Issue Three: Source column was split into device and url columns as it was not tidy enough\n",
    "><ol>\n",
    "  <p><img src=\"./issue3.png\" style=\"height: 400px;\"/></p>\n",
    "</ol>\n",
    "* Issue Seven and Eight: Here some of the values in rating_numerator column were wrongly extracted while some need transformation to fit the scale\n",
    "><ol>\n",
    "  <p><img src=\"./issue78.png\" style=\"height: 400px;\"/></p>\n",
    "</ol>"
   ]
  },
  {
   "cell_type": "markdown",
   "metadata": {},
   "source": [
    "<a id='Analyzing & Visualizing'></a>\n",
    "## Analyzing & Visualizing Data"
   ]
  },
  {
   "cell_type": "markdown",
   "metadata": {},
   "source": [
    "### Research Questions\n",
    "* What device is the most used to for tweeting the content on WeRateDogs account?\n",
    "><ol>\n",
    "<p><img src=\"./dist.png\" style=\"height: 120px;\"/> </p>  \n",
    "</ol>\n",
    "><ol>\n",
    "<p><img src=\"./pie.png\" style=\"height: 500px;\"/> </p>  \n",
    "</ol>\n",
    "* What is the relationship between favorite counts and retweet counts?\n",
    "><ol>\n",
    "<p><img src=\"./sca1.png\" style=\"height: 700px;\"/> </p>  \n",
    "</ol>\n",
    "* What is the relationship between the numerator rating and the favorite counts?\n",
    "><ol>\n",
    "<p><img src=\"./sca2.png\" style=\"height: 700px;\"/> </p>  \n",
    "</ol>"
   ]
  },
  {
   "cell_type": "markdown",
   "metadata": {
    "tags": []
   },
   "source": [
    "<a id='conclusions'></a>\n",
    "## Conclusions\n",
    "><ol>\n",
    "  <p>Majority of the tweets from WeRateDogs accounts were posted using an Iphone. 98.04% of the tweets have Twitter for Iphone as the device used with the remaining less than two percentage having been posted by TweetDeck (1.40%) and Twitter Web Client (0.56%)</p>\n",
    "  <p>There is a positive correlation between retweet count and favorite count, an increase in retweet count would mean also there would an increase in the favourites counts</p>\n",
    "  <p>Best rated dogs are between ratings 13 and 14. Likewise these dogs received more favorite counts as compared to least rate dogs at 7 which similarly received low counts of retweets and favorite</p>\n",
    "</ol>\n"
   ]
  }
 ],
 "metadata": {
  "kernelspec": {
   "display_name": "Python 3 (ipykernel)",
   "language": "python",
   "name": "python3"
  },
  "language_info": {
   "codemirror_mode": {
    "name": "ipython",
    "version": 3
   },
   "file_extension": ".py",
   "mimetype": "text/x-python",
   "name": "python",
   "nbconvert_exporter": "python",
   "pygments_lexer": "ipython3",
   "version": "3.8.13"
  },
  "widgets": {
   "application/vnd.jupyter.widget-state+json": {
    "state": {},
    "version_major": 2,
    "version_minor": 0
   }
  }
 },
 "nbformat": 4,
 "nbformat_minor": 4
}
